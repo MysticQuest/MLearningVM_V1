{
 "cells": [
  {
   "cell_type": "code",
   "execution_count": 1,
   "metadata": {},
   "outputs": [],
   "source": [
    "# importing libs"
   ]
  },
  {
   "cell_type": "code",
   "execution_count": 2,
   "metadata": {},
   "outputs": [],
   "source": [
    "import tensorflow as tf"
   ]
  },
  {
   "cell_type": "code",
   "execution_count": 3,
   "metadata": {},
   "outputs": [
    {
     "name": "stderr",
     "output_type": "stream",
     "text": [
      "Using TensorFlow backend.\n"
     ]
    }
   ],
   "source": [
    "import keras"
   ]
  },
  {
   "cell_type": "code",
   "execution_count": 4,
   "metadata": {},
   "outputs": [],
   "source": [
    "import pandas"
   ]
  },
  {
   "cell_type": "code",
   "execution_count": 5,
   "metadata": {},
   "outputs": [],
   "source": [
    "import sklearn"
   ]
  },
  {
   "cell_type": "code",
   "execution_count": 6,
   "metadata": {},
   "outputs": [],
   "source": [
    "import matplotlib"
   ]
  },
  {
   "cell_type": "code",
   "execution_count": 7,
   "metadata": {},
   "outputs": [],
   "source": [
    "import pandas as pd"
   ]
  },
  {
   "cell_type": "code",
   "execution_count": 8,
   "metadata": {},
   "outputs": [],
   "source": [
    "# store the data file"
   ]
  },
  {
   "cell_type": "code",
   "execution_count": 9,
   "metadata": {},
   "outputs": [],
   "source": [
    "df = pd.read_csv('housepricedata.csv')"
   ]
  },
  {
   "cell_type": "code",
   "execution_count": 10,
   "metadata": {},
   "outputs": [],
   "source": [
    "# put the data values into arrays"
   ]
  },
  {
   "cell_type": "code",
   "execution_count": 11,
   "metadata": {
    "scrolled": true
   },
   "outputs": [],
   "source": [
    "dataset = df.values"
   ]
  },
  {
   "cell_type": "code",
   "execution_count": 12,
   "metadata": {},
   "outputs": [],
   "source": [
    "# separating input data (X - first 10 collumns) from what we want to predict (Y - last collumn, house price)"
   ]
  },
  {
   "cell_type": "code",
   "execution_count": 13,
   "metadata": {},
   "outputs": [],
   "source": [
    "X = dataset[:,0:10]"
   ]
  },
  {
   "cell_type": "code",
   "execution_count": 14,
   "metadata": {},
   "outputs": [],
   "source": [
    "Y = dataset[:,10]"
   ]
  },
  {
   "cell_type": "code",
   "execution_count": 15,
   "metadata": {},
   "outputs": [],
   "source": [
    "# importing preprocessing package to scale all the input data to 0-1 values"
   ]
  },
  {
   "cell_type": "code",
   "execution_count": 16,
   "metadata": {},
   "outputs": [],
   "source": [
    "from sklearn import preprocessing"
   ]
  },
  {
   "cell_type": "code",
   "execution_count": 17,
   "metadata": {},
   "outputs": [
    {
     "name": "stderr",
     "output_type": "stream",
     "text": [
      "C:\\Users\\l1sko\\.conda\\envs\\ML Tests\\lib\\site-packages\\sklearn\\utils\\validation.py:595: DataConversionWarning: Data with input dtype int64 was converted to float64 by MinMaxScaler.\n",
      "  warnings.warn(msg, DataConversionWarning)\n"
     ]
    }
   ],
   "source": [
    "min_max_scaler = preprocessing.MinMaxScaler()\n",
    "X_scale = min_max_scaler.fit_transform(X)"
   ]
  },
  {
   "cell_type": "code",
   "execution_count": 18,
   "metadata": {},
   "outputs": [],
   "source": [
    "# splitting the \"validation and test\" part from the overall data (X_val_and_test 30%, X_train 70%) (can only split in two)"
   ]
  },
  {
   "cell_type": "code",
   "execution_count": 19,
   "metadata": {},
   "outputs": [],
   "source": [
    "from sklearn.model_selection import train_test_split"
   ]
  },
  {
   "cell_type": "code",
   "execution_count": 20,
   "metadata": {},
   "outputs": [],
   "source": [
    "X_train, X_val_and_test, Y_train, Y_val_and_test = train_test_split(X_scale, Y, test_size=0.3)"
   ]
  },
  {
   "cell_type": "code",
   "execution_count": 21,
   "metadata": {},
   "outputs": [],
   "source": [
    "# splitting the 30% again in half for validation and test (15% each)"
   ]
  },
  {
   "cell_type": "code",
   "execution_count": 22,
   "metadata": {},
   "outputs": [],
   "source": [
    "X_val, X_test, Y_val, Y_test = train_test_split(X_val_and_test, Y_val_and_test, test_size=0.5)"
   ]
  },
  {
   "cell_type": "code",
   "execution_count": 23,
   "metadata": {},
   "outputs": [],
   "source": [
    "# importing keras"
   ]
  },
  {
   "cell_type": "code",
   "execution_count": 24,
   "metadata": {},
   "outputs": [],
   "source": [
    "from keras.models import Sequential\n",
    "from keras.layers import Dense"
   ]
  },
  {
   "cell_type": "code",
   "execution_count": 25,
   "metadata": {},
   "outputs": [],
   "source": [
    "# TEMPLATE: setting up a 10 input, 32x2 fully connected (dense) hidden layers template"
   ]
  },
  {
   "cell_type": "code",
   "execution_count": 26,
   "metadata": {},
   "outputs": [
    {
     "name": "stdout",
     "output_type": "stream",
     "text": [
      "WARNING:tensorflow:From C:\\Users\\l1sko\\.conda\\envs\\ML Tests\\lib\\site-packages\\tensorflow\\python\\framework\\op_def_library.py:263: colocate_with (from tensorflow.python.framework.ops) is deprecated and will be removed in a future version.\n",
      "Instructions for updating:\n",
      "Colocations handled automatically by placer.\n"
     ]
    }
   ],
   "source": [
    "model = Sequential([\n",
    "    Dense(32, activation='relu', input_shape=(10,)),\n",
    "    Dense(32, activation='relu'),\n",
    "    Dense(1, activation='sigmoid'),\n",
    "])"
   ]
  },
  {
   "cell_type": "code",
   "execution_count": 27,
   "metadata": {},
   "outputs": [],
   "source": [
    "# we configure our model with an optimizer algorithm ( stochastic gradient descent),\n",
    "# a loss function (binary cross entropy - can take 0 or 1 values only) \n",
    "# and metrics we want to track"
   ]
  },
  {
   "cell_type": "code",
   "execution_count": 28,
   "metadata": {},
   "outputs": [],
   "source": [
    "model.compile(optimizer='sgd',\n",
    "              loss='binary_crossentropy',\n",
    "              metrics=['accuracy'])"
   ]
  },
  {
   "cell_type": "code",
   "execution_count": 29,
   "metadata": {},
   "outputs": [],
   "source": [
    "# we train our model, fitting the parameters to the data. We specify the part of the data we are training on, \n",
    "# size of our mini-batch, and train cycles. \n",
    "# We specify what our validation data is so that the model will tell us how we are doing on the validation data at each point."
   ]
  },
  {
   "cell_type": "code",
   "execution_count": 30,
   "metadata": {},
   "outputs": [
    {
     "name": "stdout",
     "output_type": "stream",
     "text": [
      "WARNING:tensorflow:From C:\\Users\\l1sko\\.conda\\envs\\ML Tests\\lib\\site-packages\\tensorflow\\python\\ops\\math_ops.py:3066: to_int32 (from tensorflow.python.ops.math_ops) is deprecated and will be removed in a future version.\n",
      "Instructions for updating:\n",
      "Use tf.cast instead.\n",
      "Train on 1022 samples, validate on 219 samples\n",
      "Epoch 1/100\n",
      "1022/1022 [==============================] - 1s 916us/step - loss: 0.6945 - acc: 0.5421 - val_loss: 0.6890 - val_acc: 0.5982\n",
      "Epoch 2/100\n",
      "1022/1022 [==============================] - 0s 53us/step - loss: 0.6876 - acc: 0.6683 - val_loss: 0.6816 - val_acc: 0.6986\n",
      "Epoch 3/100\n",
      "1022/1022 [==============================] - 0s 55us/step - loss: 0.6805 - acc: 0.7260 - val_loss: 0.6746 - val_acc: 0.7397\n",
      "Epoch 4/100\n",
      "1022/1022 [==============================] - 0s 49us/step - loss: 0.6735 - acc: 0.7387 - val_loss: 0.6678 - val_acc: 0.7763\n",
      "Epoch 5/100\n",
      "1022/1022 [==============================] - 0s 54us/step - loss: 0.6675 - acc: 0.7564 - val_loss: 0.6620 - val_acc: 0.7763\n",
      "Epoch 6/100\n",
      "1022/1022 [==============================] - 0s 51us/step - loss: 0.6619 - acc: 0.7515 - val_loss: 0.6559 - val_acc: 0.7991\n",
      "Epoch 7/100\n",
      "1022/1022 [==============================] - 0s 50us/step - loss: 0.6566 - acc: 0.7632 - val_loss: 0.6496 - val_acc: 0.8037\n",
      "Epoch 8/100\n",
      "1022/1022 [==============================] - 0s 49us/step - loss: 0.6515 - acc: 0.7720 - val_loss: 0.6436 - val_acc: 0.8174\n",
      "Epoch 9/100\n",
      "1022/1022 [==============================] - 0s 50us/step - loss: 0.6464 - acc: 0.7838 - val_loss: 0.6379 - val_acc: 0.8265\n",
      "Epoch 10/100\n",
      "1022/1022 [==============================] - 0s 61us/step - loss: 0.6412 - acc: 0.7965 - val_loss: 0.6324 - val_acc: 0.8265\n",
      "Epoch 11/100\n",
      "1022/1022 [==============================] - 0s 53us/step - loss: 0.6358 - acc: 0.7916 - val_loss: 0.6259 - val_acc: 0.8356\n",
      "Epoch 12/100\n",
      "1022/1022 [==============================] - 0s 53us/step - loss: 0.6302 - acc: 0.8033 - val_loss: 0.6198 - val_acc: 0.8447\n",
      "Epoch 13/100\n",
      "1022/1022 [==============================] - 0s 52us/step - loss: 0.6246 - acc: 0.8004 - val_loss: 0.6129 - val_acc: 0.8493\n",
      "Epoch 14/100\n",
      "1022/1022 [==============================] - 0s 57us/step - loss: 0.6185 - acc: 0.8092 - val_loss: 0.6067 - val_acc: 0.8402\n",
      "Epoch 15/100\n",
      "1022/1022 [==============================] - 0s 60us/step - loss: 0.6122 - acc: 0.8092 - val_loss: 0.5986 - val_acc: 0.8584\n",
      "Epoch 16/100\n",
      "1022/1022 [==============================] - 0s 59us/step - loss: 0.6059 - acc: 0.8141 - val_loss: 0.5913 - val_acc: 0.8584\n",
      "Epoch 17/100\n",
      "1022/1022 [==============================] - 0s 57us/step - loss: 0.5991 - acc: 0.8170 - val_loss: 0.5842 - val_acc: 0.8630\n",
      "Epoch 18/100\n",
      "1022/1022 [==============================] - 0s 55us/step - loss: 0.5921 - acc: 0.8160 - val_loss: 0.5767 - val_acc: 0.8630\n",
      "Epoch 19/100\n",
      "1022/1022 [==============================] - 0s 57us/step - loss: 0.5848 - acc: 0.8190 - val_loss: 0.5680 - val_acc: 0.8676\n",
      "Epoch 20/100\n",
      "1022/1022 [==============================] - 0s 52us/step - loss: 0.5773 - acc: 0.8219 - val_loss: 0.5596 - val_acc: 0.8676\n",
      "Epoch 21/100\n",
      "1022/1022 [==============================] - 0s 54us/step - loss: 0.5695 - acc: 0.8297 - val_loss: 0.5523 - val_acc: 0.8584\n",
      "Epoch 22/100\n",
      "1022/1022 [==============================] - 0s 85us/step - loss: 0.5616 - acc: 0.8229 - val_loss: 0.5427 - val_acc: 0.8584\n",
      "Epoch 23/100\n",
      "1022/1022 [==============================] - 0s 75us/step - loss: 0.5532 - acc: 0.8219 - val_loss: 0.5343 - val_acc: 0.8630\n",
      "Epoch 24/100\n",
      "1022/1022 [==============================] - 0s 79us/step - loss: 0.5448 - acc: 0.8268 - val_loss: 0.5247 - val_acc: 0.8630\n",
      "Epoch 25/100\n",
      "1022/1022 [==============================] - 0s 58us/step - loss: 0.5364 - acc: 0.8288 - val_loss: 0.5146 - val_acc: 0.8584\n",
      "Epoch 26/100\n",
      "1022/1022 [==============================] - 0s 65us/step - loss: 0.5273 - acc: 0.8297 - val_loss: 0.5063 - val_acc: 0.8676\n",
      "Epoch 27/100\n",
      "1022/1022 [==============================] - 0s 68us/step - loss: 0.5185 - acc: 0.8346 - val_loss: 0.4956 - val_acc: 0.8630\n",
      "Epoch 28/100\n",
      "1022/1022 [==============================] - 0s 69us/step - loss: 0.5096 - acc: 0.8356 - val_loss: 0.4858 - val_acc: 0.8630\n",
      "Epoch 29/100\n",
      "1022/1022 [==============================] - 0s 67us/step - loss: 0.5007 - acc: 0.8376 - val_loss: 0.4777 - val_acc: 0.8630\n",
      "Epoch 30/100\n",
      "1022/1022 [==============================] - 0s 58us/step - loss: 0.4917 - acc: 0.8366 - val_loss: 0.4658 - val_acc: 0.8676\n",
      "Epoch 31/100\n",
      "1022/1022 [==============================] - 0s 68us/step - loss: 0.4831 - acc: 0.8464 - val_loss: 0.4572 - val_acc: 0.8676\n",
      "Epoch 32/100\n",
      "1022/1022 [==============================] - 0s 70us/step - loss: 0.4745 - acc: 0.8454 - val_loss: 0.4475 - val_acc: 0.8676\n",
      "Epoch 33/100\n",
      "1022/1022 [==============================] - 0s 71us/step - loss: 0.4661 - acc: 0.8464 - val_loss: 0.4380 - val_acc: 0.8676\n",
      "Epoch 34/100\n",
      "1022/1022 [==============================] - 0s 61us/step - loss: 0.4577 - acc: 0.8474 - val_loss: 0.4299 - val_acc: 0.8721\n",
      "Epoch 35/100\n",
      "1022/1022 [==============================] - 0s 56us/step - loss: 0.4496 - acc: 0.8493 - val_loss: 0.4220 - val_acc: 0.8721\n",
      "Epoch 36/100\n",
      "1022/1022 [==============================] - 0s 55us/step - loss: 0.4419 - acc: 0.8513 - val_loss: 0.4127 - val_acc: 0.8721\n",
      "Epoch 37/100\n",
      "1022/1022 [==============================] - 0s 58us/step - loss: 0.4344 - acc: 0.8493 - val_loss: 0.4025 - val_acc: 0.8767\n",
      "Epoch 38/100\n",
      "1022/1022 [==============================] - 0s 58us/step - loss: 0.4272 - acc: 0.8581 - val_loss: 0.3951 - val_acc: 0.8767\n",
      "Epoch 39/100\n",
      "1022/1022 [==============================] - 0s 57us/step - loss: 0.4202 - acc: 0.8571 - val_loss: 0.3880 - val_acc: 0.8767\n",
      "Epoch 40/100\n",
      "1022/1022 [==============================] - 0s 67us/step - loss: 0.4139 - acc: 0.8650 - val_loss: 0.3839 - val_acc: 0.8767\n",
      "Epoch 41/100\n",
      "1022/1022 [==============================] - 0s 55us/step - loss: 0.4076 - acc: 0.8571 - val_loss: 0.3752 - val_acc: 0.8767\n",
      "Epoch 42/100\n",
      "1022/1022 [==============================] - 0s 62us/step - loss: 0.4018 - acc: 0.8620 - val_loss: 0.3687 - val_acc: 0.8767\n",
      "Epoch 43/100\n",
      "1022/1022 [==============================] - 0s 72us/step - loss: 0.3961 - acc: 0.8640 - val_loss: 0.3651 - val_acc: 0.8767\n",
      "Epoch 44/100\n",
      "1022/1022 [==============================] - 0s 69us/step - loss: 0.3909 - acc: 0.8611 - val_loss: 0.3572 - val_acc: 0.8767\n",
      "Epoch 45/100\n",
      "1022/1022 [==============================] - 0s 60us/step - loss: 0.3862 - acc: 0.8679 - val_loss: 0.3528 - val_acc: 0.8813\n",
      "Epoch 46/100\n",
      "1022/1022 [==============================] - 0s 63us/step - loss: 0.3812 - acc: 0.8659 - val_loss: 0.3470 - val_acc: 0.8858\n",
      "Epoch 47/100\n",
      "1022/1022 [==============================] - 0s 73us/step - loss: 0.3763 - acc: 0.8659 - val_loss: 0.3375 - val_acc: 0.8904\n",
      "Epoch 48/100\n",
      "1022/1022 [==============================] - 0s 70us/step - loss: 0.3728 - acc: 0.8669 - val_loss: 0.3364 - val_acc: 0.8904\n",
      "Epoch 49/100\n",
      "1022/1022 [==============================] - 0s 66us/step - loss: 0.3687 - acc: 0.8659 - val_loss: 0.3297 - val_acc: 0.8904\n",
      "Epoch 50/100\n",
      "1022/1022 [==============================] - 0s 57us/step - loss: 0.3652 - acc: 0.8689 - val_loss: 0.3265 - val_acc: 0.8950\n",
      "Epoch 51/100\n",
      "1022/1022 [==============================] - 0s 55us/step - loss: 0.3617 - acc: 0.8689 - val_loss: 0.3220 - val_acc: 0.8950\n",
      "Epoch 52/100\n",
      "1022/1022 [==============================] - 0s 72us/step - loss: 0.3580 - acc: 0.8718 - val_loss: 0.3164 - val_acc: 0.9041\n",
      "Epoch 53/100\n",
      "1022/1022 [==============================] - 0s 64us/step - loss: 0.3556 - acc: 0.8689 - val_loss: 0.3178 - val_acc: 0.8950\n",
      "Epoch 54/100\n",
      "1022/1022 [==============================] - 0s 66us/step - loss: 0.3525 - acc: 0.8708 - val_loss: 0.3131 - val_acc: 0.8950\n",
      "Epoch 55/100\n",
      "1022/1022 [==============================] - 0s 73us/step - loss: 0.3497 - acc: 0.8669 - val_loss: 0.3127 - val_acc: 0.8813\n",
      "Epoch 56/100\n",
      "1022/1022 [==============================] - 0s 66us/step - loss: 0.3477 - acc: 0.8699 - val_loss: 0.3096 - val_acc: 0.8858\n",
      "Epoch 57/100\n",
      "1022/1022 [==============================] - 0s 62us/step - loss: 0.3450 - acc: 0.8699 - val_loss: 0.3038 - val_acc: 0.8950\n",
      "Epoch 58/100\n",
      "1022/1022 [==============================] - 0s 55us/step - loss: 0.3427 - acc: 0.8689 - val_loss: 0.3010 - val_acc: 0.8904\n",
      "Epoch 59/100\n",
      "1022/1022 [==============================] - 0s 55us/step - loss: 0.3408 - acc: 0.8708 - val_loss: 0.2994 - val_acc: 0.8858\n",
      "Epoch 60/100\n",
      "1022/1022 [==============================] - 0s 78us/step - loss: 0.3392 - acc: 0.8728 - val_loss: 0.2967 - val_acc: 0.8904\n",
      "Epoch 61/100\n",
      "1022/1022 [==============================] - 0s 82us/step - loss: 0.3363 - acc: 0.8650 - val_loss: 0.2989 - val_acc: 0.8904\n",
      "Epoch 62/100\n",
      "1022/1022 [==============================] - 0s 75us/step - loss: 0.3346 - acc: 0.8699 - val_loss: 0.2932 - val_acc: 0.8858\n",
      "Epoch 63/100\n",
      "1022/1022 [==============================] - 0s 79us/step - loss: 0.3336 - acc: 0.8689 - val_loss: 0.2949 - val_acc: 0.8858\n",
      "Epoch 64/100\n",
      "1022/1022 [==============================] - 0s 163us/step - loss: 0.3316 - acc: 0.8689 - val_loss: 0.2884 - val_acc: 0.8950\n",
      "Epoch 65/100\n",
      "1022/1022 [==============================] - 0s 102us/step - loss: 0.3296 - acc: 0.8689 - val_loss: 0.2860 - val_acc: 0.8950\n",
      "Epoch 66/100\n",
      "1022/1022 [==============================] - 0s 79us/step - loss: 0.3277 - acc: 0.8659 - val_loss: 0.2904 - val_acc: 0.8904\n",
      "Epoch 67/100\n",
      "1022/1022 [==============================] - 0s 86us/step - loss: 0.3278 - acc: 0.8699 - val_loss: 0.2836 - val_acc: 0.8950\n",
      "Epoch 68/100\n",
      "1022/1022 [==============================] - 0s 71us/step - loss: 0.3256 - acc: 0.8708 - val_loss: 0.2824 - val_acc: 0.8995\n",
      "Epoch 69/100\n",
      "1022/1022 [==============================] - 0s 79us/step - loss: 0.3246 - acc: 0.8669 - val_loss: 0.2843 - val_acc: 0.8950\n",
      "Epoch 70/100\n",
      "1022/1022 [==============================] - 0s 91us/step - loss: 0.3229 - acc: 0.8689 - val_loss: 0.2767 - val_acc: 0.8950\n",
      "Epoch 71/100\n",
      "1022/1022 [==============================] - 0s 80us/step - loss: 0.3217 - acc: 0.8679 - val_loss: 0.2778 - val_acc: 0.8995\n",
      "Epoch 72/100\n",
      "1022/1022 [==============================] - 0s 82us/step - loss: 0.3207 - acc: 0.8718 - val_loss: 0.2742 - val_acc: 0.8950\n",
      "Epoch 73/100\n",
      "1022/1022 [==============================] - 0s 99us/step - loss: 0.3196 - acc: 0.8650 - val_loss: 0.2781 - val_acc: 0.8995\n",
      "Epoch 74/100\n",
      "1022/1022 [==============================] - 0s 64us/step - loss: 0.3188 - acc: 0.8748 - val_loss: 0.2725 - val_acc: 0.8995\n",
      "Epoch 75/100\n",
      "1022/1022 [==============================] - 0s 85us/step - loss: 0.3176 - acc: 0.8699 - val_loss: 0.2700 - val_acc: 0.8950\n",
      "Epoch 76/100\n",
      "1022/1022 [==============================] - 0s 77us/step - loss: 0.3165 - acc: 0.8699 - val_loss: 0.2745 - val_acc: 0.8995\n",
      "Epoch 77/100\n",
      "1022/1022 [==============================] - 0s 102us/step - loss: 0.3152 - acc: 0.8738 - val_loss: 0.2664 - val_acc: 0.8995\n",
      "Epoch 78/100\n",
      "1022/1022 [==============================] - 0s 167us/step - loss: 0.3142 - acc: 0.8699 - val_loss: 0.2716 - val_acc: 0.8995\n",
      "Epoch 79/100\n",
      "1022/1022 [==============================] - 0s 69us/step - loss: 0.3135 - acc: 0.8689 - val_loss: 0.2695 - val_acc: 0.8995\n",
      "Epoch 80/100\n",
      "1022/1022 [==============================] - 0s 79us/step - loss: 0.3128 - acc: 0.8728 - val_loss: 0.2667 - val_acc: 0.8995\n",
      "Epoch 81/100\n",
      "1022/1022 [==============================] - 0s 76us/step - loss: 0.3113 - acc: 0.8669 - val_loss: 0.2715 - val_acc: 0.8950\n",
      "Epoch 82/100\n",
      "1022/1022 [==============================] - 0s 79us/step - loss: 0.3107 - acc: 0.8718 - val_loss: 0.2666 - val_acc: 0.8995\n",
      "Epoch 83/100\n",
      "1022/1022 [==============================] - 0s 89us/step - loss: 0.3099 - acc: 0.8718 - val_loss: 0.2623 - val_acc: 0.8995\n",
      "Epoch 84/100\n",
      "1022/1022 [==============================] - 0s 150us/step - loss: 0.3091 - acc: 0.8738 - val_loss: 0.2623 - val_acc: 0.8995\n",
      "Epoch 85/100\n",
      "1022/1022 [==============================] - 0s 129us/step - loss: 0.3075 - acc: 0.8718 - val_loss: 0.2704 - val_acc: 0.8904\n",
      "Epoch 86/100\n",
      "1022/1022 [==============================] - 0s 75us/step - loss: 0.3075 - acc: 0.8767 - val_loss: 0.2633 - val_acc: 0.8995\n",
      "Epoch 87/100\n",
      "1022/1022 [==============================] - 0s 76us/step - loss: 0.3068 - acc: 0.8718 - val_loss: 0.2640 - val_acc: 0.8995\n",
      "Epoch 88/100\n",
      "1022/1022 [==============================] - 0s 76us/step - loss: 0.3061 - acc: 0.8748 - val_loss: 0.2596 - val_acc: 0.9041\n",
      "Epoch 89/100\n",
      "1022/1022 [==============================] - 0s 56us/step - loss: 0.3055 - acc: 0.8738 - val_loss: 0.2596 - val_acc: 0.8995\n",
      "Epoch 90/100\n",
      "1022/1022 [==============================] - 0s 50us/step - loss: 0.3058 - acc: 0.8748 - val_loss: 0.2589 - val_acc: 0.9041\n",
      "Epoch 91/100\n",
      "1022/1022 [==============================] - 0s 51us/step - loss: 0.3041 - acc: 0.8748 - val_loss: 0.2583 - val_acc: 0.9041\n",
      "Epoch 92/100\n",
      "1022/1022 [==============================] - 0s 53us/step - loss: 0.3033 - acc: 0.8728 - val_loss: 0.2628 - val_acc: 0.8995\n",
      "Epoch 93/100\n",
      "1022/1022 [==============================] - 0s 49us/step - loss: 0.3022 - acc: 0.8777 - val_loss: 0.2545 - val_acc: 0.9087\n",
      "Epoch 94/100\n",
      "1022/1022 [==============================] - 0s 51us/step - loss: 0.3021 - acc: 0.8738 - val_loss: 0.2551 - val_acc: 0.9041\n",
      "Epoch 95/100\n",
      "1022/1022 [==============================] - 0s 52us/step - loss: 0.3015 - acc: 0.8738 - val_loss: 0.2548 - val_acc: 0.9041\n",
      "Epoch 96/100\n",
      "1022/1022 [==============================] - 0s 53us/step - loss: 0.3008 - acc: 0.8767 - val_loss: 0.2533 - val_acc: 0.9087\n",
      "Epoch 97/100\n",
      "1022/1022 [==============================] - 0s 49us/step - loss: 0.3008 - acc: 0.8767 - val_loss: 0.2543 - val_acc: 0.9041\n",
      "Epoch 98/100\n",
      "1022/1022 [==============================] - 0s 49us/step - loss: 0.3000 - acc: 0.8757 - val_loss: 0.2572 - val_acc: 0.9087\n",
      "Epoch 99/100\n",
      "1022/1022 [==============================] - 0s 48us/step - loss: 0.2986 - acc: 0.8787 - val_loss: 0.2508 - val_acc: 0.9087\n",
      "Epoch 100/100\n",
      "1022/1022 [==============================] - 0s 52us/step - loss: 0.2982 - acc: 0.8806 - val_loss: 0.2541 - val_acc: 0.9041\n"
     ]
    }
   ],
   "source": [
    "hist = model.fit(X_train, Y_train,\n",
    "          batch_size=32, epochs=100,\n",
    "          validation_data=(X_val, Y_val))"
   ]
  },
  {
   "cell_type": "code",
   "execution_count": 31,
   "metadata": {},
   "outputs": [],
   "source": [
    "# evaluate accuracy on the test set ([0] for loss [1] for accuracy)"
   ]
  },
  {
   "cell_type": "code",
   "execution_count": 32,
   "metadata": {},
   "outputs": [
    {
     "name": "stdout",
     "output_type": "stream",
     "text": [
      "219/219 [==============================] - 0s 41us/step\n"
     ]
    },
    {
     "data": {
      "text/plain": [
       "0.9041095917627692"
      ]
     },
     "execution_count": 32,
     "metadata": {},
     "output_type": "execute_result"
    }
   ],
   "source": [
    "model.evaluate(X_test, Y_test)[1]"
   ]
  },
  {
   "cell_type": "code",
   "execution_count": 33,
   "metadata": {},
   "outputs": [],
   "source": [
    "# importing visualization libs"
   ]
  },
  {
   "cell_type": "code",
   "execution_count": 34,
   "metadata": {},
   "outputs": [],
   "source": [
    "import matplotlib.pyplot as plt"
   ]
  },
  {
   "cell_type": "code",
   "execution_count": 35,
   "metadata": {},
   "outputs": [],
   "source": [
    "# plotting training loss and validation loss"
   ]
  },
  {
   "cell_type": "code",
   "execution_count": 36,
   "metadata": {},
   "outputs": [
    {
     "data": {
      "image/png": "[encoded data removed]",
      "text/plain": [
       "<Figure size 432x288 with 1 Axes>"
      ]
     },
     "metadata": {
      "needs_background": "light"
     },
     "output_type": "display_data"
    }
   ],
   "source": [
    "plt.plot(hist.history['loss'])\n",
    "plt.plot(hist.history['val_loss'])\n",
    "plt.title('Model loss')\n",
    "plt.ylabel('Loss')\n",
    "plt.xlabel('Epoch')\n",
    "plt.legend(['Train', 'Val'], loc='upper right')\n",
    "plt.show()"
   ]
  },
  {
   "cell_type": "code",
   "execution_count": 37,
   "metadata": {},
   "outputs": [],
   "source": [
    "# plotting training accuracy and validation accuracy"
   ]
  },
  {
   "cell_type": "code",
   "execution_count": 38,
   "metadata": {},
   "outputs": [
    {
     "data": {
      "image/png": "[encoded data removed]",
      "text/plain": [
       "<Figure size 432x288 with 1 Axes>"
      ]
     },
     "metadata": {
      "needs_background": "light"
     },
     "output_type": "display_data"
    }
   ],
   "source": [
    "plt.plot(hist.history['acc'])\n",
    "plt.plot(hist.history['val_acc'])\n",
    "plt.title('Model accuracy')\n",
    "plt.ylabel('Accuracy')\n",
    "plt.xlabel('Epoch')\n",
    "plt.legend(['Train', 'Val'], loc='lower right')\n",
    "plt.show()"
   ]
  },
  {
   "cell_type": "code",
   "execution_count": 39,
   "metadata": {},
   "outputs": [],
   "source": [
    "# \"overfitting\" to the training is not a big problem since the training improvements are similar to the val improvements"
   ]
  },
  {
   "cell_type": "code",
   "execution_count": 40,
   "metadata": {},
   "outputs": [],
   "source": [
    "# attempt to overfit the set with another template in order to use regularization"
   ]
  },
  {
   "cell_type": "code",
   "execution_count": 41,
   "metadata": {},
   "outputs": [],
   "source": [
    "model_2 = Sequential([\n",
    "    Dense(1000, activation='relu', input_shape=(10,)),\n",
    "    Dense(1000, activation='relu'),\n",
    "    Dense(1000, activation='relu'),\n",
    "    Dense(1000, activation='relu'),\n",
    "    Dense(1, activation='sigmoid'),\n",
    "])"
   ]
  },
  {
   "cell_type": "code",
   "execution_count": 42,
   "metadata": {},
   "outputs": [],
   "source": [
    "model_2.compile(optimizer='adam',\n",
    "              loss='binary_crossentropy',\n",
    "              metrics=['accuracy'])"
   ]
  },
  {
   "cell_type": "code",
   "execution_count": null,
   "metadata": {},
   "outputs": [
    {
     "name": "stdout",
     "output_type": "stream",
     "text": [
      "Train on 1022 samples, validate on 219 samples\n",
      "Epoch 1/100\n",
      "1022/1022 [==============================] - 5s 5ms/step - loss: 0.4740 - acc: 0.7622 - val_loss: 0.3360 - val_acc: 0.8493\n",
      "Epoch 2/100\n",
      "1022/1022 [==============================] - 3s 3ms/step - loss: 0.3357 - acc: 0.8718 - val_loss: 0.3010 - val_acc: 0.8721\n",
      "Epoch 3/100\n",
      "1022/1022 [==============================] - 4s 4ms/step - loss: 0.3474 - acc: 0.8562 - val_loss: 0.2772 - val_acc: 0.8813\n",
      "Epoch 4/100\n",
      "1022/1022 [==============================] - 4s 4ms/step - loss: 0.2963 - acc: 0.8796 - val_loss: 0.2531 - val_acc: 0.9041\n",
      "Epoch 5/100\n",
      "1022/1022 [==============================] - 3s 3ms/step - loss: 0.3293 - acc: 0.8640 - val_loss: 0.2780 - val_acc: 0.8858\n",
      "Epoch 6/100\n",
      "1022/1022 [==============================] - 3s 3ms/step - loss: 0.2858 - acc: 0.8777 - val_loss: 0.2890 - val_acc: 0.8630\n",
      "Epoch 7/100\n",
      "1022/1022 [==============================] - 4s 4ms/step - loss: 0.2603 - acc: 0.8953 - val_loss: 0.2610 - val_acc: 0.8995\n",
      "Epoch 8/100\n",
      "1022/1022 [==============================] - 5s 5ms/step - loss: 0.2525 - acc: 0.8904 - val_loss: 0.2455 - val_acc: 0.9132\n",
      "Epoch 9/100\n",
      "1022/1022 [==============================] - 3s 3ms/step - loss: 0.2324 - acc: 0.9051 - val_loss: 0.3437 - val_acc: 0.8539\n",
      "Epoch 10/100\n",
      "1022/1022 [==============================] - 4s 4ms/step - loss: 0.2577 - acc: 0.8865 - val_loss: 0.2480 - val_acc: 0.8995\n",
      "Epoch 11/100\n",
      "1022/1022 [==============================] - 4s 4ms/step - loss: 0.2337 - acc: 0.8992 - val_loss: 0.3540 - val_acc: 0.8311\n",
      "Epoch 12/100\n",
      "1022/1022 [==============================] - 4s 4ms/step - loss: 0.2423 - acc: 0.8924 - val_loss: 0.2639 - val_acc: 0.9132\n",
      "Epoch 13/100\n",
      "1022/1022 [==============================] - 4s 4ms/step - loss: 0.2372 - acc: 0.8973 - val_loss: 0.2669 - val_acc: 0.9132\n",
      "Epoch 14/100\n",
      "1022/1022 [==============================] - 4s 4ms/step - loss: 0.2765 - acc: 0.8973 - val_loss: 0.2813 - val_acc: 0.8767\n",
      "Epoch 15/100\n",
      "1022/1022 [==============================] - 4s 4ms/step - loss: 0.2462 - acc: 0.8992 - val_loss: 0.2709 - val_acc: 0.9132\n",
      "Epoch 16/100\n",
      "1022/1022 [==============================] - 7s 7ms/step - loss: 0.2247 - acc: 0.9051 - val_loss: 0.2570 - val_acc: 0.8950\n",
      "Epoch 17/100\n",
      "1022/1022 [==============================] - 4s 4ms/step - loss: 0.2111 - acc: 0.9051 - val_loss: 0.2561 - val_acc: 0.8950\n",
      "Epoch 18/100\n",
      "1022/1022 [==============================] - 4s 4ms/step - loss: 0.2089 - acc: 0.9149 - val_loss: 0.2772 - val_acc: 0.8904\n",
      "Epoch 19/100\n",
      "1022/1022 [==============================] - 4s 4ms/step - loss: 0.2148 - acc: 0.9002 - val_loss: 0.2522 - val_acc: 0.9041\n",
      "Epoch 20/100\n",
      "1022/1022 [==============================] - 4s 4ms/step - loss: 0.2074 - acc: 0.9159 - val_loss: 0.2615 - val_acc: 0.8950\n",
      "Epoch 21/100\n",
      "1022/1022 [==============================] - 4s 4ms/step - loss: 0.2207 - acc: 0.9031 - val_loss: 0.2659 - val_acc: 0.9132\n",
      "Epoch 22/100\n",
      "1022/1022 [==============================] - 4s 4ms/step - loss: 0.2080 - acc: 0.9217 - val_loss: 0.3051 - val_acc: 0.9041\n",
      "Epoch 23/100\n",
      "1022/1022 [==============================] - 4s 4ms/step - loss: 0.2077 - acc: 0.9090 - val_loss: 0.2629 - val_acc: 0.8995\n",
      "Epoch 24/100\n",
      "1022/1022 [==============================] - 4s 4ms/step - loss: 0.1967 - acc: 0.9119 - val_loss: 0.3115 - val_acc: 0.8858\n",
      "Epoch 25/100\n",
      "1022/1022 [==============================] - 4s 3ms/step - loss: 0.2284 - acc: 0.8992 - val_loss: 0.2922 - val_acc: 0.8904\n",
      "Epoch 26/100\n",
      "1022/1022 [==============================] - 3s 3ms/step - loss: 0.2314 - acc: 0.9002 - val_loss: 0.3110 - val_acc: 0.8767\n",
      "Epoch 27/100\n",
      "1022/1022 [==============================] - 4s 4ms/step - loss: 0.2092 - acc: 0.9159 - val_loss: 0.2947 - val_acc: 0.9041\n",
      "Epoch 28/100\n",
      "1022/1022 [==============================] - 4s 4ms/step - loss: 0.1915 - acc: 0.9256 - val_loss: 0.2877 - val_acc: 0.8904\n",
      "Epoch 29/100\n",
      "1022/1022 [==============================] - 4s 3ms/step - loss: 0.1826 - acc: 0.9217 - val_loss: 0.3242 - val_acc: 0.8950\n",
      "Epoch 30/100\n",
      "1022/1022 [==============================] - 4s 4ms/step - loss: 0.2221 - acc: 0.9119 - val_loss: 0.3079 - val_acc: 0.8904\n",
      "Epoch 31/100\n",
      "1022/1022 [==============================] - 4s 4ms/step - loss: 0.1917 - acc: 0.9119 - val_loss: 0.3552 - val_acc: 0.8950\n",
      "Epoch 32/100\n",
      "1022/1022 [==============================] - 4s 4ms/step - loss: 0.2022 - acc: 0.9051 - val_loss: 0.2873 - val_acc: 0.8995\n",
      "Epoch 33/100\n",
      "1022/1022 [==============================] - 4s 4ms/step - loss: 0.1914 - acc: 0.9168 - val_loss: 0.3166 - val_acc: 0.8995\n",
      "Epoch 34/100\n",
      "1022/1022 [==============================] - 4s 4ms/step - loss: 0.1795 - acc: 0.9276 - val_loss: 0.3539 - val_acc: 0.8858\n",
      "Epoch 35/100\n",
      "1022/1022 [==============================] - 4s 4ms/step - loss: 0.1784 - acc: 0.9217 - val_loss: 0.3391 - val_acc: 0.8858\n",
      "Epoch 36/100\n",
      "1022/1022 [==============================] - 6s 6ms/step - loss: 0.1948 - acc: 0.9159 - val_loss: 0.3388 - val_acc: 0.8721\n",
      "Epoch 37/100\n",
      "1022/1022 [==============================] - 5s 5ms/step - loss: 0.1776 - acc: 0.9305 - val_loss: 0.3488 - val_acc: 0.9087\n",
      "Epoch 38/100\n",
      "1022/1022 [==============================] - 5s 5ms/step - loss: 0.1749 - acc: 0.9256 - val_loss: 0.3816 - val_acc: 0.8904\n",
      "Epoch 39/100\n",
      "1022/1022 [==============================] - 5s 5ms/step - loss: 0.1698 - acc: 0.9305 - val_loss: 0.4140 - val_acc: 0.8904\n",
      "Epoch 40/100\n",
      "1022/1022 [==============================] - 5s 5ms/step - loss: 0.1721 - acc: 0.9256 - val_loss: 0.4004 - val_acc: 0.8858\n",
      "Epoch 41/100\n",
      "1022/1022 [==============================] - 4s 4ms/step - loss: 0.1768 - acc: 0.9286 - val_loss: 0.3362 - val_acc: 0.9041\n",
      "Epoch 42/100\n",
      "1022/1022 [==============================] - 4s 4ms/step - loss: 0.1812 - acc: 0.9227 - val_loss: 0.2865 - val_acc: 0.8995\n",
      "Epoch 43/100\n",
      "1022/1022 [==============================] - 3s 3ms/step - loss: 0.1798 - acc: 0.9266 - val_loss: 0.3390 - val_acc: 0.8858\n",
      "Epoch 44/100\n",
      " 224/1022 [=====>........................] - ETA: 2s - loss: 0.1868 - acc: 0.9286"
     ]
    }
   ],
   "source": [
    "hist_2 = model_2.fit(X_train, Y_train,\n",
    "          batch_size=32, epochs=100,\n",
    "          validation_data=(X_val, Y_val))"
   ]
  },
  {
   "cell_type": "code",
   "execution_count": null,
   "metadata": {},
   "outputs": [],
   "source": [
    "# checking for overfitting"
   ]
  },
  {
   "cell_type": "code",
   "execution_count": 1,
   "metadata": {},
   "outputs": [
    {
     "ename": "NameError",
     "evalue": "name 'plt' is not defined",
     "output_type": "error",
     "traceback": [
      "\u001b[1;31m---------------------------------------------------------------------------\u001b[0m",
      "\u001b[1;31mNameError\u001b[0m                                 Traceback (most recent call last)",
      "\u001b[1;32m<ipython-input-1-10bba2b28a30>\u001b[0m in \u001b[0;36m<module>\u001b[1;34m\u001b[0m\n\u001b[1;32m----> 1\u001b[1;33m \u001b[0mplt\u001b[0m\u001b[1;33m.\u001b[0m\u001b[0mplot\u001b[0m\u001b[1;33m(\u001b[0m\u001b[0mhist_2\u001b[0m\u001b[1;33m.\u001b[0m\u001b[0mhistory\u001b[0m\u001b[1;33m[\u001b[0m\u001b[1;34m'loss'\u001b[0m\u001b[1;33m]\u001b[0m\u001b[1;33m)\u001b[0m\u001b[1;33m\u001b[0m\u001b[1;33m\u001b[0m\u001b[0m\n\u001b[0m\u001b[0;32m      2\u001b[0m \u001b[0mplt\u001b[0m\u001b[1;33m.\u001b[0m\u001b[0mplot\u001b[0m\u001b[1;33m(\u001b[0m\u001b[0mhist_2\u001b[0m\u001b[1;33m.\u001b[0m\u001b[0mhistory\u001b[0m\u001b[1;33m[\u001b[0m\u001b[1;34m'val_loss'\u001b[0m\u001b[1;33m]\u001b[0m\u001b[1;33m)\u001b[0m\u001b[1;33m\u001b[0m\u001b[1;33m\u001b[0m\u001b[0m\n\u001b[0;32m      3\u001b[0m \u001b[0mplt\u001b[0m\u001b[1;33m.\u001b[0m\u001b[0mtitle\u001b[0m\u001b[1;33m(\u001b[0m\u001b[1;34m'Model loss'\u001b[0m\u001b[1;33m)\u001b[0m\u001b[1;33m\u001b[0m\u001b[1;33m\u001b[0m\u001b[0m\n\u001b[0;32m      4\u001b[0m \u001b[0mplt\u001b[0m\u001b[1;33m.\u001b[0m\u001b[0mylabel\u001b[0m\u001b[1;33m(\u001b[0m\u001b[1;34m'Loss'\u001b[0m\u001b[1;33m)\u001b[0m\u001b[1;33m\u001b[0m\u001b[1;33m\u001b[0m\u001b[0m\n\u001b[0;32m      5\u001b[0m \u001b[0mplt\u001b[0m\u001b[1;33m.\u001b[0m\u001b[0mxlabel\u001b[0m\u001b[1;33m(\u001b[0m\u001b[1;34m'Epoch'\u001b[0m\u001b[1;33m)\u001b[0m\u001b[1;33m\u001b[0m\u001b[1;33m\u001b[0m\u001b[0m\n",
      "\u001b[1;31mNameError\u001b[0m: name 'plt' is not defined"
     ]
    }
   ],
   "source": [
    "plt.plot(hist_2.history['loss'])\n",
    "plt.plot(hist_2.history['val_loss'])\n",
    "plt.title('Model loss')\n",
    "plt.ylabel('Loss')\n",
    "plt.xlabel('Epoch')\n",
    "plt.legend(['Train', 'Val'], loc='upper right')\n",
    "plt.show()"
   ]
  },
  {
   "cell_type": "code",
   "execution_count": null,
   "metadata": {},
   "outputs": [],
   "source": [
    "plt.plot(hist_2.history['acc'])\n",
    "plt.plot(hist_2.history['val_acc'])\n",
    "plt.title('Model accuracy')\n",
    "plt.ylabel('Accuracy')\n",
    "plt.xlabel('Epoch')\n",
    "plt.legend(['Train', 'Val'], loc='lower right')\n",
    "plt.show()"
   ]
  },
  {
   "cell_type": "code",
   "execution_count": 2,
   "metadata": {},
   "outputs": [],
   "source": [
    "# importing libs for regularization"
   ]
  },
  {
   "cell_type": "code",
   "execution_count": 3,
   "metadata": {},
   "outputs": [
    {
     "name": "stderr",
     "output_type": "stream",
     "text": [
      "Using TensorFlow backend.\n"
     ]
    }
   ],
   "source": [
    "from keras.layers import Dropout\n",
    "from keras import regularizers"
   ]
  },
  {
   "cell_type": "code",
   "execution_count": 4,
   "metadata": {},
   "outputs": [],
   "source": [
    "# specifying model again with L2 regularization, to include the squared values of those parameters in our overall loss function,\n",
    "# and weight them by 0.01 in the loss function. Added a 0.3 probability of a neuron dropping out in the previous layer."
   ]
  },
  {
   "cell_type": "code",
   "execution_count": 5,
   "metadata": {},
   "outputs": [
    {
     "ename": "NameError",
     "evalue": "name 'Sequential' is not defined",
     "output_type": "error",
     "traceback": [
      "\u001b[1;31m---------------------------------------------------------------------------\u001b[0m",
      "\u001b[1;31mNameError\u001b[0m                                 Traceback (most recent call last)",
      "\u001b[1;32m<ipython-input-5-63dfae7f2dc7>\u001b[0m in \u001b[0;36m<module>\u001b[1;34m\u001b[0m\n\u001b[1;32m----> 1\u001b[1;33m model_3 = Sequential([\n\u001b[0m\u001b[0;32m      2\u001b[0m     \u001b[0mDense\u001b[0m\u001b[1;33m(\u001b[0m\u001b[1;36m1000\u001b[0m\u001b[1;33m,\u001b[0m \u001b[0mactivation\u001b[0m\u001b[1;33m=\u001b[0m\u001b[1;34m'relu'\u001b[0m\u001b[1;33m,\u001b[0m \u001b[0mkernel_regularizer\u001b[0m\u001b[1;33m=\u001b[0m\u001b[0mregularizers\u001b[0m\u001b[1;33m.\u001b[0m\u001b[0ml2\u001b[0m\u001b[1;33m(\u001b[0m\u001b[1;36m0.01\u001b[0m\u001b[1;33m)\u001b[0m\u001b[1;33m,\u001b[0m \u001b[0minput_shape\u001b[0m\u001b[1;33m=\u001b[0m\u001b[1;33m(\u001b[0m\u001b[1;36m10\u001b[0m\u001b[1;33m,\u001b[0m\u001b[1;33m)\u001b[0m\u001b[1;33m)\u001b[0m\u001b[1;33m,\u001b[0m\u001b[1;33m\u001b[0m\u001b[1;33m\u001b[0m\u001b[0m\n\u001b[0;32m      3\u001b[0m     \u001b[0mDropout\u001b[0m\u001b[1;33m(\u001b[0m\u001b[1;36m0.3\u001b[0m\u001b[1;33m)\u001b[0m\u001b[1;33m,\u001b[0m\u001b[1;33m\u001b[0m\u001b[1;33m\u001b[0m\u001b[0m\n\u001b[0;32m      4\u001b[0m     \u001b[0mDense\u001b[0m\u001b[1;33m(\u001b[0m\u001b[1;36m1000\u001b[0m\u001b[1;33m,\u001b[0m \u001b[0mactivation\u001b[0m\u001b[1;33m=\u001b[0m\u001b[1;34m'relu'\u001b[0m\u001b[1;33m,\u001b[0m \u001b[0mkernel_regularizer\u001b[0m\u001b[1;33m=\u001b[0m\u001b[0mregularizers\u001b[0m\u001b[1;33m.\u001b[0m\u001b[0ml2\u001b[0m\u001b[1;33m(\u001b[0m\u001b[1;36m0.01\u001b[0m\u001b[1;33m)\u001b[0m\u001b[1;33m)\u001b[0m\u001b[1;33m,\u001b[0m\u001b[1;33m\u001b[0m\u001b[1;33m\u001b[0m\u001b[0m\n\u001b[0;32m      5\u001b[0m     \u001b[0mDropout\u001b[0m\u001b[1;33m(\u001b[0m\u001b[1;36m0.3\u001b[0m\u001b[1;33m)\u001b[0m\u001b[1;33m,\u001b[0m\u001b[1;33m\u001b[0m\u001b[1;33m\u001b[0m\u001b[0m\n",
      "\u001b[1;31mNameError\u001b[0m: name 'Sequential' is not defined"
     ]
    }
   ],
   "source": [
    "model_3 = Sequential([\n",
    "    Dense(1000, activation='relu', kernel_regularizer=regularizers.l2(0.01), input_shape=(10,)),\n",
    "    Dropout(0.3),\n",
    "    Dense(1000, activation='relu', kernel_regularizer=regularizers.l2(0.01)),\n",
    "    Dropout(0.3),\n",
    "    Dense(1000, activation='relu', kernel_regularizer=regularizers.l2(0.01)),\n",
    "    Dropout(0.3),\n",
    "    Dense(1000, activation='relu', kernel_regularizer=regularizers.l2(0.01)),\n",
    "    Dropout(0.3),\n",
    "    Dense(1, activation='sigmoid', kernel_regularizer=regularizers.l2(0.01)),\n",
    "])"
   ]
  },
  {
   "cell_type": "code",
   "execution_count": 6,
   "metadata": {},
   "outputs": [
    {
     "ename": "NameError",
     "evalue": "name 'model_3' is not defined",
     "output_type": "error",
     "traceback": [
      "\u001b[1;31m---------------------------------------------------------------------------\u001b[0m",
      "\u001b[1;31mNameError\u001b[0m                                 Traceback (most recent call last)",
      "\u001b[1;32m<ipython-input-6-abfb883b345e>\u001b[0m in \u001b[0;36m<module>\u001b[1;34m\u001b[0m\n\u001b[1;32m----> 1\u001b[1;33m model_3.compile(optimizer='adam',\n\u001b[0m\u001b[0;32m      2\u001b[0m               \u001b[0mloss\u001b[0m\u001b[1;33m=\u001b[0m\u001b[1;34m'binary_crossentropy'\u001b[0m\u001b[1;33m,\u001b[0m\u001b[1;33m\u001b[0m\u001b[1;33m\u001b[0m\u001b[0m\n\u001b[0;32m      3\u001b[0m               metrics=['accuracy'])\n",
      "\u001b[1;31mNameError\u001b[0m: name 'model_3' is not defined"
     ]
    }
   ],
   "source": [
    "model_3.compile(optimizer='adam',\n",
    "              loss='binary_crossentropy',\n",
    "              metrics=['accuracy'])"
   ]
  },
  {
   "cell_type": "code",
   "execution_count": 7,
   "metadata": {},
   "outputs": [
    {
     "ename": "NameError",
     "evalue": "name 'model_3' is not defined",
     "output_type": "error",
     "traceback": [
      "\u001b[1;31m---------------------------------------------------------------------------\u001b[0m",
      "\u001b[1;31mNameError\u001b[0m                                 Traceback (most recent call last)",
      "\u001b[1;32m<ipython-input-7-60a4cd542022>\u001b[0m in \u001b[0;36m<module>\u001b[1;34m\u001b[0m\n\u001b[1;32m----> 1\u001b[1;33m hist_3 = model_3.fit(X_train, Y_train,\n\u001b[0m\u001b[0;32m      2\u001b[0m           \u001b[0mbatch_size\u001b[0m\u001b[1;33m=\u001b[0m\u001b[1;36m32\u001b[0m\u001b[1;33m,\u001b[0m \u001b[0mepochs\u001b[0m\u001b[1;33m=\u001b[0m\u001b[1;36m100\u001b[0m\u001b[1;33m,\u001b[0m\u001b[1;33m\u001b[0m\u001b[1;33m\u001b[0m\u001b[0m\n\u001b[0;32m      3\u001b[0m           validation_data=(X_val, Y_val))\n",
      "\u001b[1;31mNameError\u001b[0m: name 'model_3' is not defined"
     ]
    }
   ],
   "source": [
    "hist_3 = model_3.fit(X_train, Y_train,\n",
    "          batch_size=32, epochs=100,\n",
    "          validation_data=(X_val, Y_val))"
   ]
  },
  {
   "cell_type": "code",
   "execution_count": null,
   "metadata": {},
   "outputs": [],
   "source": [
    "# plotting - window is zoomed between 0 and 1.2 (pre-last line)"
   ]
  },
  {
   "cell_type": "code",
   "execution_count": 8,
   "metadata": {},
   "outputs": [
    {
     "ename": "NameError",
     "evalue": "name 'plt' is not defined",
     "output_type": "error",
     "traceback": [
      "\u001b[1;31m---------------------------------------------------------------------------\u001b[0m",
      "\u001b[1;31mNameError\u001b[0m                                 Traceback (most recent call last)",
      "\u001b[1;32m<ipython-input-8-2977f928e2ac>\u001b[0m in \u001b[0;36m<module>\u001b[1;34m\u001b[0m\n\u001b[1;32m----> 1\u001b[1;33m \u001b[0mplt\u001b[0m\u001b[1;33m.\u001b[0m\u001b[0mplot\u001b[0m\u001b[1;33m(\u001b[0m\u001b[0mhist_3\u001b[0m\u001b[1;33m.\u001b[0m\u001b[0mhistory\u001b[0m\u001b[1;33m[\u001b[0m\u001b[1;34m'loss'\u001b[0m\u001b[1;33m]\u001b[0m\u001b[1;33m)\u001b[0m\u001b[1;33m\u001b[0m\u001b[1;33m\u001b[0m\u001b[0m\n\u001b[0m\u001b[0;32m      2\u001b[0m \u001b[0mplt\u001b[0m\u001b[1;33m.\u001b[0m\u001b[0mplot\u001b[0m\u001b[1;33m(\u001b[0m\u001b[0mhist_3\u001b[0m\u001b[1;33m.\u001b[0m\u001b[0mhistory\u001b[0m\u001b[1;33m[\u001b[0m\u001b[1;34m'val_loss'\u001b[0m\u001b[1;33m]\u001b[0m\u001b[1;33m)\u001b[0m\u001b[1;33m\u001b[0m\u001b[1;33m\u001b[0m\u001b[0m\n\u001b[0;32m      3\u001b[0m \u001b[0mplt\u001b[0m\u001b[1;33m.\u001b[0m\u001b[0mtitle\u001b[0m\u001b[1;33m(\u001b[0m\u001b[1;34m'Model loss'\u001b[0m\u001b[1;33m)\u001b[0m\u001b[1;33m\u001b[0m\u001b[1;33m\u001b[0m\u001b[0m\n\u001b[0;32m      4\u001b[0m \u001b[0mplt\u001b[0m\u001b[1;33m.\u001b[0m\u001b[0mylabel\u001b[0m\u001b[1;33m(\u001b[0m\u001b[1;34m'Loss'\u001b[0m\u001b[1;33m)\u001b[0m\u001b[1;33m\u001b[0m\u001b[1;33m\u001b[0m\u001b[0m\n\u001b[0;32m      5\u001b[0m \u001b[0mplt\u001b[0m\u001b[1;33m.\u001b[0m\u001b[0mxlabel\u001b[0m\u001b[1;33m(\u001b[0m\u001b[1;34m'Epoch'\u001b[0m\u001b[1;33m)\u001b[0m\u001b[1;33m\u001b[0m\u001b[1;33m\u001b[0m\u001b[0m\n",
      "\u001b[1;31mNameError\u001b[0m: name 'plt' is not defined"
     ]
    }
   ],
   "source": [
    "plt.plot(hist_3.history['loss'])\n",
    "plt.plot(hist_3.history['val_loss'])\n",
    "plt.title('Model loss')\n",
    "plt.ylabel('Loss')\n",
    "plt.xlabel('Epoch')\n",
    "plt.legend(['Train', 'Val'], loc='upper right')\n",
    "plt.ylim(top=1.2, bottom=0)\n",
    "plt.show()"
   ]
  },
  {
   "cell_type": "code",
   "execution_count": 9,
   "metadata": {},
   "outputs": [
    {
     "ename": "NameError",
     "evalue": "name 'plt' is not defined",
     "output_type": "error",
     "traceback": [
      "\u001b[1;31m---------------------------------------------------------------------------\u001b[0m",
      "\u001b[1;31mNameError\u001b[0m                                 Traceback (most recent call last)",
      "\u001b[1;32m<ipython-input-9-93e058a6a8fe>\u001b[0m in \u001b[0;36m<module>\u001b[1;34m\u001b[0m\n\u001b[1;32m----> 1\u001b[1;33m \u001b[0mplt\u001b[0m\u001b[1;33m.\u001b[0m\u001b[0mplot\u001b[0m\u001b[1;33m(\u001b[0m\u001b[0mhist_3\u001b[0m\u001b[1;33m.\u001b[0m\u001b[0mhistory\u001b[0m\u001b[1;33m[\u001b[0m\u001b[1;34m'acc'\u001b[0m\u001b[1;33m]\u001b[0m\u001b[1;33m)\u001b[0m\u001b[1;33m\u001b[0m\u001b[1;33m\u001b[0m\u001b[0m\n\u001b[0m\u001b[0;32m      2\u001b[0m \u001b[0mplt\u001b[0m\u001b[1;33m.\u001b[0m\u001b[0mplot\u001b[0m\u001b[1;33m(\u001b[0m\u001b[0mhist_3\u001b[0m\u001b[1;33m.\u001b[0m\u001b[0mhistory\u001b[0m\u001b[1;33m[\u001b[0m\u001b[1;34m'val_acc'\u001b[0m\u001b[1;33m]\u001b[0m\u001b[1;33m)\u001b[0m\u001b[1;33m\u001b[0m\u001b[1;33m\u001b[0m\u001b[0m\n\u001b[0;32m      3\u001b[0m \u001b[0mplt\u001b[0m\u001b[1;33m.\u001b[0m\u001b[0mtitle\u001b[0m\u001b[1;33m(\u001b[0m\u001b[1;34m'Model accuracy'\u001b[0m\u001b[1;33m)\u001b[0m\u001b[1;33m\u001b[0m\u001b[1;33m\u001b[0m\u001b[0m\n\u001b[0;32m      4\u001b[0m \u001b[0mplt\u001b[0m\u001b[1;33m.\u001b[0m\u001b[0mylabel\u001b[0m\u001b[1;33m(\u001b[0m\u001b[1;34m'Accuracy'\u001b[0m\u001b[1;33m)\u001b[0m\u001b[1;33m\u001b[0m\u001b[1;33m\u001b[0m\u001b[0m\n\u001b[0;32m      5\u001b[0m \u001b[0mplt\u001b[0m\u001b[1;33m.\u001b[0m\u001b[0mxlabel\u001b[0m\u001b[1;33m(\u001b[0m\u001b[1;34m'Epoch'\u001b[0m\u001b[1;33m)\u001b[0m\u001b[1;33m\u001b[0m\u001b[1;33m\u001b[0m\u001b[0m\n",
      "\u001b[1;31mNameError\u001b[0m: name 'plt' is not defined"
     ]
    }
   ],
   "source": [
    "plt.plot(hist_3.history['acc'])\n",
    "plt.plot(hist_3.history['val_acc'])\n",
    "plt.title('Model accuracy')\n",
    "plt.ylabel('Accuracy')\n",
    "plt.xlabel('Epoch')\n",
    "plt.legend(['Train', 'Val'], loc='lower right')\n",
    "plt.show()"
   ]
  },
  {
   "cell_type": "code",
   "execution_count": null,
   "metadata": {},
   "outputs": [],
   "source": [
    "# overfitting solved"
   ]
  }
 ],
 "metadata": {
  "kernelspec": {
   "display_name": "Python 3",
   "language": "python",
   "name": "python3"
  },
  "language_info": {
   "codemirror_mode": {
    "name": "ipython",
    "version": 3
   },
   "file_extension": ".py",
   "mimetype": "text/x-python",
   "name": "python",
   "nbconvert_exporter": "python",
   "pygments_lexer": "ipython3",
   "version": "3.7.3"
  }
 },
 "nbformat": 4,
 "nbformat_minor": 2
}
