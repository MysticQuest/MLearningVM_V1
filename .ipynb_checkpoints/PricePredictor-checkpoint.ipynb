{
 "cells": [
  {
   "cell_type": "code",
   "execution_count": 1,
   "metadata": {},
   "outputs": [],
   "source": [
    "# importing libs"
   ]
  },
  {
   "cell_type": "code",
   "execution_count": 2,
   "metadata": {},
   "outputs": [],
   "source": [
    "import tensorflow as tf"
   ]
  },
  {
   "cell_type": "code",
   "execution_count": 3,
   "metadata": {},
   "outputs": [
    {
     "name": "stderr",
     "output_type": "stream",
     "text": [
      "Using TensorFlow backend.\n"
     ]
    }
   ],
   "source": [
    "import keras"
   ]
  },
  {
   "cell_type": "code",
   "execution_count": 4,
   "metadata": {},
   "outputs": [],
   "source": [
    "import pandas"
   ]
  },
  {
   "cell_type": "code",
   "execution_count": 5,
   "metadata": {},
   "outputs": [],
   "source": [
    "import sklearn"
   ]
  },
  {
   "cell_type": "code",
   "execution_count": 6,
   "metadata": {},
   "outputs": [],
   "source": [
    "import matplotlib"
   ]
  },
  {
   "cell_type": "code",
   "execution_count": 7,
   "metadata": {},
   "outputs": [],
   "source": [
    "import pandas as pd"
   ]
  },
  {
   "cell_type": "code",
   "execution_count": 8,
   "metadata": {},
   "outputs": [],
   "source": [
    "# store the data file"
   ]
  },
  {
   "cell_type": "code",
   "execution_count": 9,
   "metadata": {},
   "outputs": [],
   "source": [
    "df = pd.read_csv('housepricedata.csv')"
   ]
  },
  {
   "cell_type": "code",
   "execution_count": 10,
   "metadata": {},
   "outputs": [],
   "source": [
    "# put the data values into arrays"
   ]
  },
  {
   "cell_type": "code",
   "execution_count": 11,
   "metadata": {
    "scrolled": true
   },
   "outputs": [],
   "source": [
    "dataset = df.values"
   ]
  },
  {
   "cell_type": "code",
   "execution_count": 12,
   "metadata": {},
   "outputs": [],
   "source": [
    "# separating input data (X - first 10 collumns) from what we want to predict (Y - last collumn, house price)"
   ]
  },
  {
   "cell_type": "code",
   "execution_count": 13,
   "metadata": {},
   "outputs": [],
   "source": [
    "X = dataset[:,0:10]"
   ]
  },
  {
   "cell_type": "code",
   "execution_count": 14,
   "metadata": {},
   "outputs": [],
   "source": [
    "Y = dataset[:,10]"
   ]
  },
  {
   "cell_type": "code",
   "execution_count": 15,
   "metadata": {},
   "outputs": [],
   "source": [
    "# importing preprocessing package to scale all the input data to 0-1 values"
   ]
  },
  {
   "cell_type": "code",
   "execution_count": 16,
   "metadata": {},
   "outputs": [],
   "source": [
    "from sklearn import preprocessing"
   ]
  },
  {
   "cell_type": "code",
   "execution_count": 17,
   "metadata": {},
   "outputs": [
    {
     "name": "stderr",
     "output_type": "stream",
     "text": [
      "C:\\Users\\l1sko\\.conda\\envs\\ML Tests\\lib\\site-packages\\sklearn\\utils\\validation.py:595: DataConversionWarning: Data with input dtype int64 was converted to float64 by MinMaxScaler.\n",
      "  warnings.warn(msg, DataConversionWarning)\n"
     ]
    }
   ],
   "source": [
    "min_max_scaler = preprocessing.MinMaxScaler()\n",
    "X_scale = min_max_scaler.fit_transform(X)"
   ]
  },
  {
   "cell_type": "code",
   "execution_count": 18,
   "metadata": {},
   "outputs": [],
   "source": [
    "# splitting the \"validation and test\" part from the overall data (X_val_and_test 30%, X_train 70%) (can only split in two)"
   ]
  },
  {
   "cell_type": "code",
   "execution_count": 19,
   "metadata": {},
   "outputs": [],
   "source": [
    "from sklearn.model_selection import train_test_split"
   ]
  },
  {
   "cell_type": "code",
   "execution_count": 20,
   "metadata": {},
   "outputs": [],
   "source": [
    "X_train, X_val_and_test, Y_train, Y_val_and_test = train_test_split(X_scale, Y, test_size=0.3)"
   ]
  },
  {
   "cell_type": "code",
   "execution_count": 21,
   "metadata": {},
   "outputs": [],
   "source": [
    "# splitting the 30% again in half for validation and test (15% each)"
   ]
  },
  {
   "cell_type": "code",
   "execution_count": 22,
   "metadata": {},
   "outputs": [],
   "source": [
    "X_val, X_test, Y_val, Y_test = train_test_split(X_val_and_test, Y_val_and_test, test_size=0.5)"
   ]
  },
  {
   "cell_type": "code",
   "execution_count": 23,
   "metadata": {},
   "outputs": [],
   "source": [
    "# importing keras"
   ]
  },
  {
   "cell_type": "code",
   "execution_count": 24,
   "metadata": {},
   "outputs": [],
   "source": [
    "from keras.models import Sequential\n",
    "from keras.layers import Dense"
   ]
  },
  {
   "cell_type": "code",
   "execution_count": 25,
   "metadata": {},
   "outputs": [],
   "source": [
    "# TEMPLATE: setting up a 10 input, 32x2 fully connected (dense) hidden layers template"
   ]
  },
  {
   "cell_type": "code",
   "execution_count": 26,
   "metadata": {},
   "outputs": [
    {
     "name": "stdout",
     "output_type": "stream",
     "text": [
      "WARNING:tensorflow:From C:\\Users\\l1sko\\.conda\\envs\\ML Tests\\lib\\site-packages\\tensorflow\\python\\framework\\op_def_library.py:263: colocate_with (from tensorflow.python.framework.ops) is deprecated and will be removed in a future version.\n",
      "Instructions for updating:\n",
      "Colocations handled automatically by placer.\n"
     ]
    }
   ],
   "source": [
    "model = Sequential([\n",
    "    Dense(32, activation='relu', input_shape=(10,)),\n",
    "    Dense(32, activation='relu'),\n",
    "    Dense(1, activation='sigmoid'),\n",
    "])"
   ]
  },
  {
   "cell_type": "code",
   "execution_count": 27,
   "metadata": {},
   "outputs": [],
   "source": [
    "# we configure our model with an optimizer algorithm ( stochastic gradient descent),\n",
    "# a loss function (binary cross entropy - can take 0 or 1 values only) \n",
    "# and metrics we want to track"
   ]
  },
  {
   "cell_type": "code",
   "execution_count": 28,
   "metadata": {},
   "outputs": [],
   "source": [
    "model.compile(optimizer='sgd',\n",
    "              loss='binary_crossentropy',\n",
    "              metrics=['accuracy'])"
   ]
  },
  {
   "cell_type": "code",
   "execution_count": 29,
   "metadata": {},
   "outputs": [],
   "source": [
    "# we train our model, fitting the parameters to the data. We specify the part of the data we are training on, \n",
    "# size of our mini-batch, and train cycles. \n",
    "# We specify what our validation data is so that the model will tell us how we are doing on the validation data at each point."
   ]
  },
  {
   "cell_type": "code",
   "execution_count": 30,
   "metadata": {},
   "outputs": [
    {
     "name": "stdout",
     "output_type": "stream",
     "text": [
      "WARNING:tensorflow:From C:\\Users\\l1sko\\.conda\\envs\\ML Tests\\lib\\site-packages\\tensorflow\\python\\ops\\math_ops.py:3066: to_int32 (from tensorflow.python.ops.math_ops) is deprecated and will be removed in a future version.\n",
      "Instructions for updating:\n",
      "Use tf.cast instead.\n",
      "Train on 1022 samples, validate on 219 samples\n",
      "Epoch 1/100\n",
      "1022/1022 [==============================] - 1s 946us/step - loss: 0.6972 - acc: 0.4628 - val_loss: 0.6979 - val_acc: 0.4658\n",
      "Epoch 2/100\n",
      "1022/1022 [==============================] - 0s 64us/step - loss: 0.6939 - acc: 0.5098 - val_loss: 0.6945 - val_acc: 0.4795\n",
      "Epoch 3/100\n",
      "1022/1022 [==============================] - 0s 55us/step - loss: 0.6902 - acc: 0.5362 - val_loss: 0.6905 - val_acc: 0.5160\n",
      "Epoch 4/100\n",
      "1022/1022 [==============================] - 0s 54us/step - loss: 0.6860 - acc: 0.5753 - val_loss: 0.6859 - val_acc: 0.5799\n",
      "Epoch 5/100\n",
      "1022/1022 [==============================] - 0s 56us/step - loss: 0.6817 - acc: 0.6262 - val_loss: 0.6815 - val_acc: 0.6438\n",
      "Epoch 6/100\n",
      "1022/1022 [==============================] - 0s 50us/step - loss: 0.6776 - acc: 0.7006 - val_loss: 0.6775 - val_acc: 0.6941\n",
      "Epoch 7/100\n",
      "1022/1022 [==============================] - 0s 49us/step - loss: 0.6742 - acc: 0.7466 - val_loss: 0.6741 - val_acc: 0.7169\n",
      "Epoch 8/100\n",
      "1022/1022 [==============================] - 0s 85us/step - loss: 0.6710 - acc: 0.7701 - val_loss: 0.6710 - val_acc: 0.7215\n",
      "Epoch 9/100\n",
      "1022/1022 [==============================] - 0s 87us/step - loss: 0.6681 - acc: 0.7583 - val_loss: 0.6682 - val_acc: 0.7443\n",
      "Epoch 10/100\n",
      "1022/1022 [==============================] - 0s 74us/step - loss: 0.6655 - acc: 0.7955 - val_loss: 0.6655 - val_acc: 0.7489\n",
      "Epoch 11/100\n",
      "1022/1022 [==============================] - 0s 76us/step - loss: 0.6629 - acc: 0.7857 - val_loss: 0.6628 - val_acc: 0.7626\n",
      "Epoch 12/100\n",
      "1022/1022 [==============================] - 0s 71us/step - loss: 0.6603 - acc: 0.7916 - val_loss: 0.6600 - val_acc: 0.7626\n",
      "Epoch 13/100\n",
      "1022/1022 [==============================] - 0s 86us/step - loss: 0.6576 - acc: 0.7710 - val_loss: 0.6570 - val_acc: 0.7763\n",
      "Epoch 14/100\n",
      "1022/1022 [==============================] - 0s 63us/step - loss: 0.6547 - acc: 0.8004 - val_loss: 0.6540 - val_acc: 0.7763\n",
      "Epoch 15/100\n",
      "1022/1022 [==============================] - 0s 92us/step - loss: 0.6518 - acc: 0.8190 - val_loss: 0.6509 - val_acc: 0.7717\n",
      "Epoch 16/100\n",
      "1022/1022 [==============================] - 0s 54us/step - loss: 0.6486 - acc: 0.8190 - val_loss: 0.6476 - val_acc: 0.7763\n",
      "Epoch 17/100\n",
      "1022/1022 [==============================] - 0s 66us/step - loss: 0.6454 - acc: 0.8170 - val_loss: 0.6441 - val_acc: 0.7763\n",
      "Epoch 18/100\n",
      "1022/1022 [==============================] - 0s 58us/step - loss: 0.6418 - acc: 0.8141 - val_loss: 0.6403 - val_acc: 0.7900\n",
      "Epoch 19/100\n",
      "1022/1022 [==============================] - 0s 50us/step - loss: 0.6382 - acc: 0.8268 - val_loss: 0.6364 - val_acc: 0.7900\n",
      "Epoch 20/100\n",
      "1022/1022 [==============================] - 0s 50us/step - loss: 0.6344 - acc: 0.8229 - val_loss: 0.6322 - val_acc: 0.8037\n",
      "Epoch 21/100\n",
      "1022/1022 [==============================] - 0s 64us/step - loss: 0.6303 - acc: 0.8327 - val_loss: 0.6278 - val_acc: 0.8037\n",
      "Epoch 22/100\n",
      "1022/1022 [==============================] - 0s 65us/step - loss: 0.6259 - acc: 0.8376 - val_loss: 0.6233 - val_acc: 0.8037\n",
      "Epoch 23/100\n",
      "1022/1022 [==============================] - 0s 62us/step - loss: 0.6214 - acc: 0.8317 - val_loss: 0.6181 - val_acc: 0.8174\n",
      "Epoch 24/100\n",
      "1022/1022 [==============================] - 0s 56us/step - loss: 0.6163 - acc: 0.8444 - val_loss: 0.6131 - val_acc: 0.7991\n",
      "Epoch 25/100\n",
      "1022/1022 [==============================] - 0s 51us/step - loss: 0.6111 - acc: 0.8395 - val_loss: 0.6072 - val_acc: 0.8311\n",
      "Epoch 26/100\n",
      "1022/1022 [==============================] - 0s 53us/step - loss: 0.6054 - acc: 0.8366 - val_loss: 0.6011 - val_acc: 0.8402\n",
      "Epoch 27/100\n",
      "1022/1022 [==============================] - 0s 52us/step - loss: 0.5994 - acc: 0.8474 - val_loss: 0.5949 - val_acc: 0.8402\n",
      "Epoch 28/100\n",
      "1022/1022 [==============================] - 0s 66us/step - loss: 0.5931 - acc: 0.8434 - val_loss: 0.5883 - val_acc: 0.8402\n",
      "Epoch 29/100\n",
      "1022/1022 [==============================] - 0s 84us/step - loss: 0.5866 - acc: 0.8493 - val_loss: 0.5814 - val_acc: 0.8447\n",
      "Epoch 30/100\n",
      "1022/1022 [==============================] - 0s 79us/step - loss: 0.5798 - acc: 0.8552 - val_loss: 0.5741 - val_acc: 0.8447\n",
      "Epoch 31/100\n",
      "1022/1022 [==============================] - 0s 73us/step - loss: 0.5727 - acc: 0.8503 - val_loss: 0.5663 - val_acc: 0.8447\n",
      "Epoch 32/100\n",
      "1022/1022 [==============================] - 0s 52us/step - loss: 0.5653 - acc: 0.8523 - val_loss: 0.5585 - val_acc: 0.8447\n",
      "Epoch 33/100\n",
      "1022/1022 [==============================] - 0s 49us/step - loss: 0.5576 - acc: 0.8552 - val_loss: 0.5501 - val_acc: 0.8447\n",
      "Epoch 34/100\n",
      "1022/1022 [==============================] - 0s 52us/step - loss: 0.5496 - acc: 0.8532 - val_loss: 0.5415 - val_acc: 0.8447\n",
      "Epoch 35/100\n",
      "1022/1022 [==============================] - 0s 63us/step - loss: 0.5412 - acc: 0.8523 - val_loss: 0.5325 - val_acc: 0.8402\n",
      "Epoch 36/100\n",
      "1022/1022 [==============================] - 0s 65us/step - loss: 0.5324 - acc: 0.8532 - val_loss: 0.5227 - val_acc: 0.8539\n",
      "Epoch 37/100\n",
      "1022/1022 [==============================] - 0s 63us/step - loss: 0.5234 - acc: 0.8532 - val_loss: 0.5134 - val_acc: 0.8447\n",
      "Epoch 38/100\n",
      "1022/1022 [==============================] - 0s 56us/step - loss: 0.5142 - acc: 0.8591 - val_loss: 0.5033 - val_acc: 0.8539\n",
      "Epoch 39/100\n",
      "1022/1022 [==============================] - 0s 55us/step - loss: 0.5051 - acc: 0.8523 - val_loss: 0.4938 - val_acc: 0.8493\n",
      "Epoch 40/100\n",
      "1022/1022 [==============================] - 0s 55us/step - loss: 0.4963 - acc: 0.8562 - val_loss: 0.4835 - val_acc: 0.8676\n",
      "Epoch 41/100\n",
      "1022/1022 [==============================] - 0s 59us/step - loss: 0.4866 - acc: 0.8562 - val_loss: 0.4735 - val_acc: 0.8721\n",
      "Epoch 42/100\n",
      "1022/1022 [==============================] - 0s 57us/step - loss: 0.4778 - acc: 0.8523 - val_loss: 0.4637 - val_acc: 0.8721\n",
      "Epoch 43/100\n",
      "1022/1022 [==============================] - 0s 51us/step - loss: 0.4687 - acc: 0.8562 - val_loss: 0.4539 - val_acc: 0.8767\n",
      "Epoch 44/100\n",
      "1022/1022 [==============================] - 0s 51us/step - loss: 0.4598 - acc: 0.8581 - val_loss: 0.4455 - val_acc: 0.8630\n",
      "Epoch 45/100\n",
      "1022/1022 [==============================] - 0s 49us/step - loss: 0.4513 - acc: 0.8523 - val_loss: 0.4355 - val_acc: 0.8721\n",
      "Epoch 46/100\n",
      "1022/1022 [==============================] - 0s 49us/step - loss: 0.4428 - acc: 0.8562 - val_loss: 0.4273 - val_acc: 0.8676\n",
      "Epoch 47/100\n",
      "1022/1022 [==============================] - 0s 53us/step - loss: 0.4345 - acc: 0.8611 - val_loss: 0.4166 - val_acc: 0.8813\n",
      "Epoch 48/100\n",
      "1022/1022 [==============================] - 0s 63us/step - loss: 0.4270 - acc: 0.8542 - val_loss: 0.4094 - val_acc: 0.8813\n",
      "Epoch 49/100\n",
      "1022/1022 [==============================] - 0s 57us/step - loss: 0.4195 - acc: 0.8591 - val_loss: 0.3999 - val_acc: 0.8813\n",
      "Epoch 50/100\n",
      "1022/1022 [==============================] - 0s 57us/step - loss: 0.4124 - acc: 0.8581 - val_loss: 0.3930 - val_acc: 0.8858\n",
      "Epoch 51/100\n",
      "1022/1022 [==============================] - 0s 49us/step - loss: 0.4055 - acc: 0.8581 - val_loss: 0.3860 - val_acc: 0.8858\n",
      "Epoch 52/100\n",
      "1022/1022 [==============================] - 0s 98us/step - loss: 0.3988 - acc: 0.8601 - val_loss: 0.3796 - val_acc: 0.8813\n",
      "Epoch 53/100\n",
      "1022/1022 [==============================] - 0s 57us/step - loss: 0.3927 - acc: 0.8601 - val_loss: 0.3701 - val_acc: 0.8858\n",
      "Epoch 54/100\n",
      "1022/1022 [==============================] - 0s 56us/step - loss: 0.3872 - acc: 0.8601 - val_loss: 0.3640 - val_acc: 0.8858\n",
      "Epoch 55/100\n",
      "1022/1022 [==============================] - 0s 56us/step - loss: 0.3814 - acc: 0.8591 - val_loss: 0.3570 - val_acc: 0.8858\n",
      "Epoch 56/100\n",
      "1022/1022 [==============================] - 0s 50us/step - loss: 0.3766 - acc: 0.8591 - val_loss: 0.3512 - val_acc: 0.8858\n",
      "Epoch 57/100\n",
      "1022/1022 [==============================] - 0s 50us/step - loss: 0.3715 - acc: 0.8611 - val_loss: 0.3459 - val_acc: 0.8858\n",
      "Epoch 58/100\n"
     ]
    },
    {
     "name": "stdout",
     "output_type": "stream",
     "text": [
      "1022/1022 [==============================] - 0s 51us/step - loss: 0.3670 - acc: 0.8611 - val_loss: 0.3416 - val_acc: 0.8813\n",
      "Epoch 59/100\n",
      "1022/1022 [==============================] - 0s 50us/step - loss: 0.3627 - acc: 0.8601 - val_loss: 0.3379 - val_acc: 0.8813\n",
      "Epoch 60/100\n",
      "1022/1022 [==============================] - 0s 49us/step - loss: 0.3588 - acc: 0.8640 - val_loss: 0.3306 - val_acc: 0.8858\n",
      "Epoch 61/100\n",
      "1022/1022 [==============================] - 0s 61us/step - loss: 0.3546 - acc: 0.8611 - val_loss: 0.3262 - val_acc: 0.8858\n",
      "Epoch 62/100\n",
      "1022/1022 [==============================] - 0s 53us/step - loss: 0.3510 - acc: 0.8650 - val_loss: 0.3201 - val_acc: 0.8858\n",
      "Epoch 63/100\n",
      "1022/1022 [==============================] - 0s 49us/step - loss: 0.3478 - acc: 0.8630 - val_loss: 0.3183 - val_acc: 0.8950\n",
      "Epoch 64/100\n",
      "1022/1022 [==============================] - 0s 53us/step - loss: 0.3445 - acc: 0.8611 - val_loss: 0.3128 - val_acc: 0.8813\n",
      "Epoch 65/100\n",
      "1022/1022 [==============================] - 0s 62us/step - loss: 0.3419 - acc: 0.8659 - val_loss: 0.3091 - val_acc: 0.8813\n",
      "Epoch 66/100\n",
      "1022/1022 [==============================] - 0s 50us/step - loss: 0.3394 - acc: 0.8640 - val_loss: 0.3064 - val_acc: 0.8858\n",
      "Epoch 67/100\n",
      "1022/1022 [==============================] - 0s 53us/step - loss: 0.3352 - acc: 0.8640 - val_loss: 0.3005 - val_acc: 0.8904\n",
      "Epoch 68/100\n",
      "1022/1022 [==============================] - 0s 52us/step - loss: 0.3339 - acc: 0.8659 - val_loss: 0.2982 - val_acc: 0.8858\n",
      "Epoch 69/100\n",
      "1022/1022 [==============================] - 0s 51us/step - loss: 0.3314 - acc: 0.8689 - val_loss: 0.2967 - val_acc: 0.8858\n",
      "Epoch 70/100\n",
      "1022/1022 [==============================] - 0s 48us/step - loss: 0.3286 - acc: 0.8689 - val_loss: 0.2925 - val_acc: 0.8904\n",
      "Epoch 71/100\n",
      "1022/1022 [==============================] - 0s 52us/step - loss: 0.3269 - acc: 0.8699 - val_loss: 0.2906 - val_acc: 0.8858\n",
      "Epoch 72/100\n",
      "1022/1022 [==============================] - 0s 48us/step - loss: 0.3243 - acc: 0.8689 - val_loss: 0.2856 - val_acc: 0.8950\n",
      "Epoch 73/100\n",
      "1022/1022 [==============================] - 0s 52us/step - loss: 0.3225 - acc: 0.8650 - val_loss: 0.2858 - val_acc: 0.8858\n",
      "Epoch 74/100\n",
      "1022/1022 [==============================] - 0s 48us/step - loss: 0.3206 - acc: 0.8708 - val_loss: 0.2832 - val_acc: 0.8858\n",
      "Epoch 75/100\n",
      "1022/1022 [==============================] - 0s 53us/step - loss: 0.3197 - acc: 0.8679 - val_loss: 0.2815 - val_acc: 0.8904\n",
      "Epoch 76/100\n",
      "1022/1022 [==============================] - 0s 48us/step - loss: 0.3173 - acc: 0.8699 - val_loss: 0.2768 - val_acc: 0.8950\n",
      "Epoch 77/100\n",
      "1022/1022 [==============================] - 0s 52us/step - loss: 0.3157 - acc: 0.8718 - val_loss: 0.2738 - val_acc: 0.8950\n",
      "Epoch 78/100\n",
      "1022/1022 [==============================] - 0s 54us/step - loss: 0.3138 - acc: 0.8718 - val_loss: 0.2742 - val_acc: 0.8950\n",
      "Epoch 79/100\n",
      "1022/1022 [==============================] - 0s 55us/step - loss: 0.3123 - acc: 0.8748 - val_loss: 0.2693 - val_acc: 0.8904\n",
      "Epoch 80/100\n",
      "1022/1022 [==============================] - 0s 52us/step - loss: 0.3114 - acc: 0.8699 - val_loss: 0.2697 - val_acc: 0.8950\n",
      "Epoch 81/100\n",
      "1022/1022 [==============================] - 0s 52us/step - loss: 0.3098 - acc: 0.8728 - val_loss: 0.2677 - val_acc: 0.8950\n",
      "Epoch 82/100\n",
      "1022/1022 [==============================] - 0s 49us/step - loss: 0.3083 - acc: 0.8757 - val_loss: 0.2670 - val_acc: 0.8995\n",
      "Epoch 83/100\n",
      "1022/1022 [==============================] - 0s 62us/step - loss: 0.3065 - acc: 0.8699 - val_loss: 0.2676 - val_acc: 0.8995\n",
      "Epoch 84/100\n",
      "1022/1022 [==============================] - 0s 49us/step - loss: 0.3059 - acc: 0.8738 - val_loss: 0.2632 - val_acc: 0.8995\n",
      "Epoch 85/100\n",
      "1022/1022 [==============================] - 0s 48us/step - loss: 0.3046 - acc: 0.8748 - val_loss: 0.2592 - val_acc: 0.8950\n",
      "Epoch 86/100\n",
      "1022/1022 [==============================] - 0s 50us/step - loss: 0.3036 - acc: 0.8728 - val_loss: 0.2582 - val_acc: 0.8950\n",
      "Epoch 87/100\n",
      "1022/1022 [==============================] - 0s 51us/step - loss: 0.3027 - acc: 0.8708 - val_loss: 0.2555 - val_acc: 0.8950\n",
      "Epoch 88/100\n",
      "1022/1022 [==============================] - 0s 52us/step - loss: 0.3012 - acc: 0.8767 - val_loss: 0.2538 - val_acc: 0.8950\n",
      "Epoch 89/100\n",
      "1022/1022 [==============================] - 0s 51us/step - loss: 0.3002 - acc: 0.8738 - val_loss: 0.2518 - val_acc: 0.8950\n",
      "Epoch 90/100\n",
      "1022/1022 [==============================] - 0s 68us/step - loss: 0.2994 - acc: 0.8738 - val_loss: 0.2515 - val_acc: 0.8950\n",
      "Epoch 91/100\n",
      "1022/1022 [==============================] - 0s 84us/step - loss: 0.2982 - acc: 0.8777 - val_loss: 0.2533 - val_acc: 0.9041\n",
      "Epoch 92/100\n",
      "1022/1022 [==============================] - 0s 79us/step - loss: 0.2976 - acc: 0.8757 - val_loss: 0.2502 - val_acc: 0.9041\n",
      "Epoch 93/100\n",
      "1022/1022 [==============================] - 0s 76us/step - loss: 0.2962 - acc: 0.8777 - val_loss: 0.2481 - val_acc: 0.9041\n",
      "Epoch 94/100\n",
      "1022/1022 [==============================] - 0s 101us/step - loss: 0.2949 - acc: 0.8757 - val_loss: 0.2439 - val_acc: 0.8904\n",
      "Epoch 95/100\n",
      "1022/1022 [==============================] - 0s 83us/step - loss: 0.2943 - acc: 0.8767 - val_loss: 0.2473 - val_acc: 0.9087\n",
      "Epoch 96/100\n",
      "1022/1022 [==============================] - 0s 89us/step - loss: 0.2939 - acc: 0.8767 - val_loss: 0.2450 - val_acc: 0.9087\n",
      "Epoch 97/100\n",
      "1022/1022 [==============================] - 0s 99us/step - loss: 0.2930 - acc: 0.8806 - val_loss: 0.2438 - val_acc: 0.9087\n",
      "Epoch 98/100\n",
      "1022/1022 [==============================] - 0s 102us/step - loss: 0.2921 - acc: 0.8777 - val_loss: 0.2424 - val_acc: 0.9087\n",
      "Epoch 99/100\n",
      "1022/1022 [==============================] - 0s 83us/step - loss: 0.2909 - acc: 0.8738 - val_loss: 0.2384 - val_acc: 0.8995\n",
      "Epoch 100/100\n",
      "1022/1022 [==============================] - 0s 80us/step - loss: 0.2902 - acc: 0.8826 - val_loss: 0.2400 - val_acc: 0.9087\n"
     ]
    }
   ],
   "source": [
    "hist = model.fit(X_train, Y_train,\n",
    "          batch_size=32, epochs=100,\n",
    "          validation_data=(X_val, Y_val))"
   ]
  },
  {
   "cell_type": "code",
   "execution_count": 31,
   "metadata": {},
   "outputs": [],
   "source": [
    "# evaluate accuracy on the test set"
   ]
  },
  {
   "cell_type": "code",
   "execution_count": null,
   "metadata": {},
   "outputs": [],
   "source": []
  }
 ],
 "metadata": {
  "kernelspec": {
   "display_name": "Python 3",
   "language": "python",
   "name": "python3"
  },
  "language_info": {
   "codemirror_mode": {
    "name": "ipython",
    "version": 3
   },
   "file_extension": ".py",
   "mimetype": "text/x-python",
   "name": "python",
   "nbconvert_exporter": "python",
   "pygments_lexer": "ipython3",
   "version": "3.7.3"
  }
 },
 "nbformat": 4,
 "nbformat_minor": 2
}
